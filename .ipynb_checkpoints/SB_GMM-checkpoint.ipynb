{
 "cells": [
  {
   "cell_type": "code",
   "execution_count": 1,
   "id": "d605eb08-cfae-4368-8454-465ed39654e4",
   "metadata": {},
   "outputs": [],
   "source": [
    "import numpy as np\n",
    "import pickle\n",
    "import matplotlib.pyplot as plt\n",
    "from sklearn.cluster import KMeans\n",
    "import time\n",
    "from sklearn.mixture import GaussianMixture as GMM"
   ]
  },
  {
   "cell_type": "code",
   "execution_count": 2,
   "id": "e3df103d-7712-4ce8-8af9-d4a75dc8aa94",
   "metadata": {},
   "outputs": [],
   "source": [
    "#file = 'preped_som_rfls.pickle'\n",
    "file = r'/Users/varunpatro/Desktop/preped_som_rfls.pickle'"
   ]
  },
  {
   "cell_type": "code",
   "execution_count": 3,
   "id": "0e741c0a-d166-400b-b644-fef9606d3db5",
   "metadata": {},
   "outputs": [],
   "source": [
    "spectra = pickle.load(open(file, 'rb'))"
   ]
  },
  {
   "cell_type": "code",
   "execution_count": 6,
   "id": "3aacbfca-6a89-40b7-883f-b0b6c699c6ac",
   "metadata": {},
   "outputs": [
    {
     "data": {
      "text/plain": [
       "(80, 100, 335)"
      ]
     },
     "execution_count": 6,
     "metadata": {},
     "output_type": "execute_result"
    }
   ],
   "source": [
    "spectra['20220224'].shape"
   ]
  },
  {
   "cell_type": "code",
   "execution_count": 7,
   "id": "5f038d55-b402-4b17-a653-de76fdc9b21b",
   "metadata": {},
   "outputs": [],
   "source": [
    "time_1 = spectra['20220224'].copy()\n",
    "time_1_reshapen = time_1.reshape((time_1.shape[0]*time_1.shape[1],335))"
   ]
  },
  {
   "cell_type": "code",
   "execution_count": 10,
   "id": "f604ae41-5c53-4f0c-9447-b726bd118800",
   "metadata": {},
   "outputs": [],
   "source": [
    "seed = 8\n",
    "gmm_4 = GMM(n_components=4, random_state=seed).fit(time_1_reshapen)\n"
   ]
  },
  {
   "cell_type": "code",
   "execution_count": 11,
   "id": "61dab02f-a311-4afa-8426-474c0a0a0f72",
   "metadata": {},
   "outputs": [],
   "source": [
    "labels = gmm_4.predict(time_1_reshapen)\n",
    "means_4 = gmm_4.means_"
   ]
  },
  {
   "cell_type": "code",
   "execution_count": 15,
   "id": "cb35cb44-a00e-4f30-8abd-b34a3b32815c",
   "metadata": {},
   "outputs": [
    {
     "data": {
      "text/plain": [
       "(4, 335)"
      ]
     },
     "execution_count": 15,
     "metadata": {},
     "output_type": "execute_result"
    }
   ],
   "source": [
    "means_4.shape"
   ]
  },
  {
   "cell_type": "code",
   "execution_count": 19,
   "id": "3bf390c4-8fe9-4ce6-ad75-c05dd8297687",
   "metadata": {},
   "outputs": [],
   "source": [
    "rgb_t1 = np.zeros((time_1.shape[0]*time_1.shape[1], 335))\n",
    "\n",
    "for i in range(len(labels)): # 8000 times\n",
    "    if labels[i] == 0:\n",
    "        rgb_t1[i] = means_4[0]\n",
    "    elif labels[i] == 1:\n",
    "        rgb_t1[i] = means_4[1]\n",
    "    elif labels[i] == 2:\n",
    "        rgb_t1[i] = means_4[2]\n",
    "    else:\n",
    "        rgb_t1[i] = means_4[3]\n",
    "        \n",
    "    "
   ]
  },
  {
   "cell_type": "code",
   "execution_count": 20,
   "id": "b38e83f4-b1b1-4bdd-8b85-254a6d282fbc",
   "metadata": {},
   "outputs": [
    {
     "data": {
      "text/plain": [
       "<matplotlib.image.AxesImage at 0x7f81d8240c70>"
      ]
     },
     "execution_count": 20,
     "metadata": {},
     "output_type": "execute_result"
    },
    {
     "data": {
      "image/png": "[encoded data removed]",
      "text/plain": [
       "<Figure size 864x504 with 1 Axes>"
      ]
     },
     "metadata": {
      "needs_background": "light"
     },
     "output_type": "display_data"
    }
   ],
   "source": [
    "rgb_t1 = rgb_t1.reshape((80,100,335))\n",
    "\n",
    "fig = plt.figure(figsize = (12, 7))\n",
    "r = rgb_t1[:,:,54]\n",
    "g = rgb_t1[:,:,34]\n",
    "b = rgb_t1[:,:,16]\n",
    "img = np.dstack((r, g, b))*10\n",
    "plt.imshow(img);\n",
    "\n",
    "z = np.ones((rgb_t1.shape[0], rgb_t1.shape[1]))\n",
    "img = np.dstack((z, z, z))\n",
    "plt.imshow(img, alpha = 0.3)"
   ]
  },
  {
   "cell_type": "code",
   "execution_count": null,
   "id": "b7d24141-470d-40a7-8543-f76665084a6d",
   "metadata": {},
   "outputs": [],
   "source": [
    "seed = 8\n",
    "# Running kmeans through all time points in time series\n",
    "labels = []\n",
    "km_predict_tpoints = []\n",
    "inits = []\n",
    "count = 0\n",
    "for i in spectra.keys():\n",
    "    time_point = spectra[i].copy()\n",
    "    time_point_reshapen = time_point.reshape(time_point.shape[0]*time_point.shape[1], time_point.shape[2])\n",
    "    if i == '20220224':\n",
    "        kmeans = KMeans(init = 'k-means++', n_clusters = 4, random_state = seed).fit(time_point_reshapen)\n",
    "        Z = kmeans.predict(time_point_reshapen)\n",
    "        clusterCount = np.bincount(kmeans.labels_)\n",
    "        km_predict_tpoints.append(clusterCount)\n",
    "        cluster_inits = kmeans.cluster_centers_\n",
    "        inits.append(cluster_inits)\n",
    "        labels.append(kmeans.labels_)\n",
    "    else:\n",
    "        #print('count: ', count)\n",
    "        #print('inits: ', inits)\n",
    "        kmeans = KMeans(init = inits[count-1], n_clusters = 4, random_state = seed).fit(time_point_reshapen)\n",
    "        Z = kmeans.predict(time_point_reshapen)\n",
    "        clusterCount = np.bincount(kmeans.labels_)\n",
    "        km_predict_tpoints.append(clusterCount)\n",
    "        cluster_inits = kmeans.cluster_centers_\n",
    "        inits.append(cluster_inits)\n",
    "        labels.append(kmeans.labels_)\n",
    "        \n",
    "    count+= 1"
   ]
  }
 ],
 "metadata": {
  "kernelspec": {
   "display_name": "Python 3",
   "language": "python",
   "name": "python3"
  },
  "language_info": {
   "codemirror_mode": {
    "name": "ipython",
    "version": 3
   },
   "file_extension": ".py",
   "mimetype": "text/x-python",
   "name": "python",
   "nbconvert_exporter": "python",
   "pygments_lexer": "ipython3",
   "version": "3.8.8"
  }
 },
 "nbformat": 4,
 "nbformat_minor": 5
}
