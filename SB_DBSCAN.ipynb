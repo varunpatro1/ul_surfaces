{
 "cells": [
  {
   "cell_type": "code",
   "execution_count": 1,
   "id": "45ad998d-00e8-4fe0-b24e-7170a54db06c",
   "metadata": {},
   "outputs": [],
   "source": [
    "import numpy as np\n",
    "import pickle\n",
    "import matplotlib.pyplot as plt\n",
    "from sklearn.cluster import KMeans\n",
    "import time\n",
    "from sklearn.mixture import GaussianMixture as GMM\n",
    "from itertools import combinations\n",
    "from sklearn.cluster import DBSCAN"
   ]
  },
  {
   "cell_type": "code",
   "execution_count": 2,
   "id": "a09e176a-be1b-475b-ae5f-c9cca2cee125",
   "metadata": {},
   "outputs": [],
   "source": [
    "#file = 'preped_som_rfls.pickle'\n",
    "file = r'/Users/varunpatro/Desktop/preped_som_rfls.pickle'\n",
    "spectra = pickle.load(open(file, 'rb'))"
   ]
  },
  {
   "cell_type": "code",
   "execution_count": 3,
   "id": "870e4f0d-e8e7-49b8-8bd6-32601d10a870",
   "metadata": {},
   "outputs": [
    {
     "data": {
      "text/plain": [
       "(80, 100, 335)"
      ]
     },
     "execution_count": 3,
     "metadata": {},
     "output_type": "execute_result"
    }
   ],
   "source": [
    "spectra['20220224'].shape"
   ]
  },
  {
   "cell_type": "code",
   "execution_count": 4,
   "id": "06a28b3c-e352-4377-8e14-81d5839b358d",
   "metadata": {},
   "outputs": [],
   "source": [
    "time_1 = spectra['20220224'].copy()\n",
    "time_1_reshaped = time_1.reshape(time_1.shape[0]*time_1.shape[1], time_1.shape[2])"
   ]
  },
  {
   "cell_type": "code",
   "execution_count": 19,
   "id": "66304287-b775-4d53-b0e2-aee526f6d4d2",
   "metadata": {},
   "outputs": [],
   "source": [
    "dbscan = DBSCAN(eps=0.3,).fit(time_1_reshaped)"
   ]
  },
  {
   "cell_type": "code",
   "execution_count": 21,
   "id": "69fa7ff1-3677-48a1-a81b-5b674ee5c878",
   "metadata": {},
   "outputs": [
    {
     "data": {
      "text/plain": [
       "array([0, 0, 0, ..., 0, 0, 0])"
      ]
     },
     "execution_count": 21,
     "metadata": {},
     "output_type": "execute_result"
    }
   ],
   "source": [
    "dbscan.labels_"
   ]
  },
  {
   "cell_type": "code",
   "execution_count": 22,
   "id": "60b9adb8-2f8f-4659-9c01-d854529d5d79",
   "metadata": {},
   "outputs": [],
   "source": [
    "clusterCounts = np.bincount(dbscan.labels_)"
   ]
  },
  {
   "cell_type": "code",
   "execution_count": 24,
   "id": "c9e6b905-4a6b-47de-a3dc-77cc5f684287",
   "metadata": {},
   "outputs": [
    {
     "data": {
      "text/plain": [
       "array([8000])"
      ]
     },
     "execution_count": 24,
     "metadata": {},
     "output_type": "execute_result"
    }
   ],
   "source": [
    "clusterCounts"
   ]
  },
  {
   "cell_type": "code",
   "execution_count": 23,
   "id": "08afd4bb-e91c-47f3-ad68-faab90d95e69",
   "metadata": {},
   "outputs": [
    {
     "name": "stdout",
     "output_type": "stream",
     "text": [
      "0\n"
     ]
    }
   ],
   "source": [
    "count = 0\n",
    "for i in dbscan.labels_:\n",
    "    if i != 0:\n",
    "        count+=1\n",
    "print(count)"
   ]
  },
  {
   "cell_type": "code",
   "execution_count": null,
   "id": "85392f90-a1d3-4936-8435-d4eea2ffcbb6",
   "metadata": {},
   "outputs": [],
   "source": []
  }
 ],
 "metadata": {
  "kernelspec": {
   "display_name": "Python 3 (ipykernel)",
   "language": "python",
   "name": "python3"
  },
  "language_info": {
   "codemirror_mode": {
    "name": "ipython",
    "version": 3
   },
   "file_extension": ".py",
   "mimetype": "text/x-python",
   "name": "python",
   "nbconvert_exporter": "python",
   "pygments_lexer": "ipython3",
   "version": "3.8.8"
  }
 },
 "nbformat": 4,
 "nbformat_minor": 5
}
