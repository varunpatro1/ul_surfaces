{
 "cells": [
  {
   "cell_type": "code",
   "execution_count": 3,
   "id": "113a179d-5ce6-451f-8cb3-5e46f765dde3",
   "metadata": {},
   "outputs": [],
   "source": [
    "import numpy as np\n",
    "import matplotlib.pyplot as plt\n",
    "from sklearn.cluster import KMeans"
   ]
  },
  {
   "cell_type": "code",
   "execution_count": 4,
   "id": "708871fc-260b-449f-8397-08f1a0eb6229",
   "metadata": {},
   "outputs": [
    {
     "data": {
      "text/plain": [
       "'\\n\\nInitialization\\n    1. Randomly initialize first point (seed this)\\n    2. Create distribution for initialization of k other points\\n\\nAssignment\\n    1. Calculate distance from each data point to each centroid\\n    2. Select centroid of min distance\\n    \\nRe-compute\\n    1. Calculate centroid\\n'"
      ]
     },
     "execution_count": 4,
     "metadata": {},
     "output_type": "execute_result"
    }
   ],
   "source": [
    "# Steps\n",
    "\n",
    "\"\"\"\n",
    "\n",
    "Initialization\n",
    "    1. Randomly initialize first point (seed this)\n",
    "    2. Create distribution for initialization of k other points\n",
    "\n",
    "Assignment\n",
    "    1. Calculate distance from each data point to each centroid\n",
    "    2. Select centroid of min distance\n",
    "    \n",
    "Re-compute\n",
    "    1. Calculate centroid\n",
    "\"\"\""
   ]
  },
  {
   "cell_type": "code",
   "execution_count": 5,
   "id": "260a917d-05f2-4853-a366-159817689dd7",
   "metadata": {},
   "outputs": [],
   "source": [
    "def spectral_angle(vec1: np.array, vec2: np.array):\n",
    "    return acos(np.dot(vec1, vec2))"
   ]
  },
  {
   "cell_type": "code",
   "execution_count": 11,
   "id": "33da500b-422e-4d06-a96c-50681a5918f5",
   "metadata": {},
   "outputs": [],
   "source": [
    "class KMeans:\n",
    "    def __init__(self, k, tol, max_iter):\n",
    "        self.k = k\n",
    "        self.tol = tol\n",
    "        self.max_iter = max_iter\n",
    "        \n",
    "        self.centroids = []\n",
    "        \n",
    "    \"\"\"\n",
    "        \n",
    "    def initialize(X, K):\n",
    "    C = [X[0]]\n",
    "    for k in range(1, K):\n",
    "        D2 = scipy.array([min([scipy.inner(c-x,c-x) for c in C]) for x in X])\n",
    "        probs = D2/D2.sum()\n",
    "        cumprobs = probs.cumsum()\n",
    "        r = scipy.rand()\n",
    "        for j,p in enumerate(cumprobs):\n",
    "            if r < p:\n",
    "                i = j\n",
    "                break\n",
    "        C.append(X[i])\n",
    "        \n",
    "    return C\n",
    "    \n",
    "    \"\"\"\n",
    "        \n",
    "    def fit(self, data):\n",
    "\n",
    "        \n",
    "        for i in range(max_iter):\n",
    "            self.labels = {}\n",
    "            \n",
    "            for i in range(self.k):\n",
    "                self.labels[i] = []\n",
    "                \n",
    "            for spectra in data:\n",
    "                distances = [spectral_angle(spectra, self.centroid[centroid]) for centroid in self.centroids]\n",
    "                classification = distances.index(min(distances))\n",
    "                \n",
    "                self.labels[classification].append(spectra)\n",
    "                \n",
    "                prev_centroids = dict(self.centroids)\n",
    "                \n",
    "                for label in self.labels:\n",
    "                    self.centroids[label] = np.average(self.labels[label], axis = 0)\n",
    "                    \n",
    "                    \n",
    "                complete = True\n",
    "                \n",
    "                for c in self.centroids:\n",
    "                    orig_cent = prev_centroids[c]\n",
    "                    curr_cent = self.centroids[c]\n",
    "                    \n",
    "                    if np.sum((curr_cent - orig_cent) / orig_cent * 100.0) > self.tol:\n",
    "                        print(np.sum((curr_cent - orig_cent)/orig_cent*100.0))\n",
    "                        complete = False\n",
    "                        \n",
    "                if complete:\n",
    "                    break\n",
    "        "
   ]
  },
  {
   "cell_type": "code",
   "execution_count": 10,
   "id": "f74d87d7-46b1-4907-a43a-2598349e3d1a",
   "metadata": {},
   "outputs": [],
   "source": [
    "def predict(self,data):\n",
    "    distances = [spectral_angle(data, self.centroids[centroid]) for centroid in self.centroids]\n",
    "    label = distances.index(min(distances))\n",
    "    return label"
   ]
  },
  {
   "cell_type": "code",
   "execution_count": null,
   "id": "4c94acf3-ad40-4743-bd09-98a0a7100dbf",
   "metadata": {},
   "outputs": [],
   "source": [
    "\"\"\"\n",
    "\n",
    "model = KMeans()\n",
    "model.fit(X)"
   ]
  }
 ],
 "metadata": {
  "kernelspec": {
   "display_name": "Python 3 (ipykernel)",
   "language": "python",
   "name": "python3"
  },
  "language_info": {
   "codemirror_mode": {
    "name": "ipython",
    "version": 3
   },
   "file_extension": ".py",
   "mimetype": "text/x-python",
   "name": "python",
   "nbconvert_exporter": "python",
   "pygments_lexer": "ipython3",
   "version": "3.8.8"
  }
 },
 "nbformat": 4,
 "nbformat_minor": 5
}
